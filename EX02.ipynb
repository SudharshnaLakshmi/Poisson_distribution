{
 "cells": [
  {
   "cell_type": "code",
   "execution_count": 6,
   "id": "19f8a547",
   "metadata": {},
   "outputs": [
    {
     "name": "stdout",
     "output_type": "stream",
     "text": [
      "1 2 2 5 1 5 1 3\n",
      " X P(X=x) Obs.Fr Exp.Fr xi\n",
      "------------------------\n",
      "0.00 0.08 0.00 0.66 0.66\n",
      "1.00 0.21 3.00 1.64 1.12\n",
      "2.00 0.26 2.00 2.05 0.00\n",
      "3.00 0.21 1.00 1.71 0.29\n",
      "4.00 0.13 0.00 1.07 1.07\n",
      "5.00 0.07 2.00 0.53 4.02\n",
      "------------------\n",
      "Calculated value of Chi square is 7.16\n",
      "Table value of Chi square at 1 level is 15.09\n",
      "The given data can be fitted in poisson distribution at 1% LOS \n"
     ]
    }
   ],
   "source": [
    "import numpy as np\n",
    "import math\n",
    "import scipy.stats\n",
    "L=[int(i) for i in input().split()]\n",
    "N=len(L);M=max(L)\n",
    "X=list();f=list()\n",
    "for i in range(M+1):\n",
    "    c=0\n",
    "    for j in range (N):\n",
    "        if L[j]==i:\n",
    "            c=c+1\n",
    "    f.append(c)\n",
    "    X.append(i)\n",
    "sf=np.sum(f)\n",
    "p=list()\n",
    "for i in range(M+1):\n",
    "    p.append(f[i]/sf)\n",
    "mean=np.inner(X,p)\n",
    "pr=list();E=list();xi=list()\n",
    "print(\" X P(X=x) Obs.Fr Exp.Fr xi\")\n",
    "print(\"------------------------\")\n",
    "for x in range(M+1):\n",
    "    pr.append(math.exp(-mean)*mean**x/math.factorial(x))\n",
    "    E.append(pr[x]*sf)\n",
    "    xi.append((f[x]-E[x])**2/E[x])\n",
    "    print(\"%2.2f %2.2f %4.2f %3.2f %3.2f\"%(x,pr[x],f[x],E[x],xi[x]))\n",
    "print(\"------------------\")\n",
    "cal_chi2_sq=np.sum(xi)\n",
    "print(\"Calculated value of Chi square is %4.2f\"%cal_chi2_sq)\n",
    "table_chi2=scipy.stats.chi2.ppf(1-.01,df=M)\n",
    "print(\"Table value of Chi square at 1 level is %4.2f\"%table_chi2)\n",
    "if cal_chi2_sq<table_chi2:\n",
    "    print(\"The given data can be fitted in poisson distribution at 1% LOS \")\n",
    "else:\n",
    "     print((\"The given data cannot be fitted in poisson distribution at 1% LOS \"))"
   ]
  },
  {
   "cell_type": "code",
   "execution_count": null,
   "id": "c28d6547",
   "metadata": {},
   "outputs": [],
   "source": []
  }
 ],
 "metadata": {
  "kernelspec": {
   "display_name": "Python 3",
   "language": "python",
   "name": "python3"
  },
  "language_info": {
   "codemirror_mode": {
    "name": "ipython",
    "version": 3
   },
   "file_extension": ".py",
   "mimetype": "text/x-python",
   "name": "python",
   "nbconvert_exporter": "python",
   "pygments_lexer": "ipython3",
   "version": "3.8.8"
  }
 },
 "nbformat": 4,
 "nbformat_minor": 5
}
